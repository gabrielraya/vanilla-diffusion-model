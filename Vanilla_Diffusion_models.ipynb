{
  "nbformat": 4,
  "nbformat_minor": 0,
  "metadata": {
    "colab": {
      "provenance": [],
      "authorship_tag": "ABX9TyM36l7SkFR8uKupTCObJhoT",
      "include_colab_link": true
    },
    "kernelspec": {
      "name": "python3",
      "display_name": "Python 3"
    },
    "language_info": {
      "name": "python"
    },
    "accelerator": "GPU",
    "gpuClass": "standard"
  },
  "cells": [
    {
      "cell_type": "markdown",
      "metadata": {
        "id": "view-in-github",
        "colab_type": "text"
      },
      "source": [
        "<a href=\"https://colab.research.google.com/github/gabrielraya/vanilla-diffusion-model/blob/main/Vanilla_Diffusion_models.ipynb\" target=\"_parent\"><img src=\"https://colab.research.google.com/assets/colab-badge.svg\" alt=\"Open In Colab\"/></a>"
      ]
    },
    {
      "cell_type": "markdown",
      "source": [
        "# Vanilla Diffusion models \n",
        "\n",
        "This notebook provides the minimal code required for you to experience how diffusion models work. The implementation "
      ],
      "metadata": {
        "id": "SpNWiz8XhYl3"
      }
    },
    {
      "cell_type": "code",
      "source": [
        "!git clone https://github.com/gabrielraya/vanilla-diffusion-model.git"
      ],
      "metadata": {
        "colab": {
          "base_uri": "https://localhost:8080/"
        },
        "id": "SQ-11w0xsYsP",
        "outputId": "13da46d1-2216-40ef-f86c-db0e9366f46e"
      },
      "execution_count": 6,
      "outputs": [
        {
          "output_type": "stream",
          "name": "stdout",
          "text": [
            "Cloning into 'vanilla-diffusion-model'...\n",
            "remote: Enumerating objects: 9, done.\u001b[K\n",
            "remote: Counting objects: 100% (9/9), done.\u001b[K\n",
            "remote: Compressing objects: 100% (8/8), done.\u001b[K\n",
            "remote: Total 9 (delta 1), reused 5 (delta 1), pack-reused 0\u001b[K\n",
            "Unpacking objects: 100% (9/9), done.\n"
          ]
        }
      ]
    },
    {
      "cell_type": "code",
      "execution_count": 7,
      "metadata": {
        "id": "pxcRS8exhSq8"
      },
      "outputs": [],
      "source": [
        "import os \n",
        "\n",
        "\n",
        "# Create directories for experiemental logs\n",
        "workdir = \"./\"\n",
        "sample_dir = os.path.join(workdir, \"samples\")\n",
        "os.makedirs(sample_dir, exist_ok=True)"
      ]
    },
    {
      "cell_type": "code",
      "source": [
        "# @title Training configuration \n",
        "\n",
        "batch_size = 64 #@param {\"type\":\"integer\"}\n",
        "n_iters = 1000 #@param {\"type\":\"integer\"}\n",
        "snapshot_freq = 50000 #@param {\"type\":\"integer\"}\n",
        "grid_size = 25 #@param {\"type\":\"integer\"}\n",
        "dataset = 'CIFAR10' #@param ['MNIST', 'CIFAR10', 'CIFAR10'] {\"type\": \"string\"}\n",
        "\n",
        "\n",
        "class Config():\n",
        "    def __init__(self, **kwargs):\n",
        "        self.__dict__.update(kwargs)\n",
        "\n",
        "\n",
        "training = Config(batch_size=batch_size, n_iters=n_iters)\n",
        "sampling = Config(grid_size=grid_size)\n",
        "config   = Config(training=training, sampling=sampling)"
      ],
      "metadata": {
        "id": "moswxC_ujJUC"
      },
      "execution_count": 17,
      "outputs": []
    },
    {
      "cell_type": "code",
      "source": [],
      "metadata": {
        "id": "lROwMLtDmZ_w"
      },
      "execution_count": null,
      "outputs": []
    },
    {
      "cell_type": "code",
      "source": [
        "from vanilla-diffusion-model import datasets\n",
        "\n",
        "\n",
        "# Build data iterators\n",
        "train_ds, eval_ds, _ = datasets.get_dataset(config,\n",
        "                                            uniform_dequantization=config.data.uniform_dequantization)\n",
        "train_iter = iter(train_ds)  # pytype: disable=wrong-arg-types\n",
        "eval_iter = iter(eval_ds)  # pytype: disable=wrong-arg-types\n",
        "# Create data normalizer and its inverse\n",
        "scaler = datasets.get_data_scaler(config)\n",
        "inverse_scaler = datasets.get_data_inverse_scaler(config)"
      ],
      "metadata": {
        "colab": {
          "base_uri": "https://localhost:8080/",
          "height": 130
        },
        "id": "CQMta20WmaDb",
        "outputId": "7cff21f0-4ec5-4061-a083-bcab8d894fe1"
      },
      "execution_count": 8,
      "outputs": [
        {
          "output_type": "error",
          "ename": "SyntaxError",
          "evalue": "ignored",
          "traceback": [
            "\u001b[0;36m  File \u001b[0;32m\"<ipython-input-8-0c795312b77d>\"\u001b[0;36m, line \u001b[0;32m1\u001b[0m\n\u001b[0;31m    from vanilla-diffusion-model import datasets\u001b[0m\n\u001b[0m                ^\u001b[0m\n\u001b[0;31mSyntaxError\u001b[0m\u001b[0;31m:\u001b[0m invalid syntax\n"
          ]
        }
      ]
    },
    {
      "cell_type": "code",
      "source": [
        "jax.device_count()"
      ],
      "metadata": {
        "colab": {
          "base_uri": "https://localhost:8080/"
        },
        "id": "ual17UPcmaHv",
        "outputId": "2074f3ae-6eee-4028-c97e-99dd86c4fc71"
      },
      "execution_count": 3,
      "outputs": [
        {
          "output_type": "execute_result",
          "data": {
            "text/plain": [
              "1"
            ]
          },
          "metadata": {},
          "execution_count": 3
        }
      ]
    },
    {
      "cell_type": "code",
      "source": [
        "config.training.batch_size"
      ],
      "metadata": {
        "colab": {
          "base_uri": "https://localhost:8080/"
        },
        "id": "16MIwNvZj5n7",
        "outputId": "9cb4ee1c-4b8f-497f-d832-d325f2b428b5"
      },
      "execution_count": 18,
      "outputs": [
        {
          "output_type": "execute_result",
          "data": {
            "text/plain": [
              "64"
            ]
          },
          "metadata": {},
          "execution_count": 18
        }
      ]
    },
    {
      "cell_type": "code",
      "source": [
        "# @title Load the score-based model\n",
        "sde = 'VESDE' #@param ['VESDE', 'VPSDE', 'subVPSDE'] {\"type\": \"string\"}\n",
        "if sde.lower() == 'vesde':\n",
        "  from configs.ve import cifar10_ncsnpp_continuous as configs\n",
        "  ckpt_filename = \"exp/ve/cifar10_ncsnpp_continuous/checkpoint_24\"\n",
        "  config = configs.get_config()  \n",
        "  sde = VESDE(sigma_min=config.model.sigma_min, sigma_max=config.model.sigma_max, N=config.model.num_scales)\n",
        "  sampling_eps = 1e-5\n",
        "elif sde.lower() == 'vpsde':\n",
        "  from configs.vp import cifar10_ddpmpp_continuous as configs\n",
        "  ckpt_filename = \"exp/vp/cifar10_ddpmpp_continuous/checkpoint_8\"  \n",
        "  config = configs.get_config()\n",
        "  sde = VPSDE(beta_min=config.model.beta_min, beta_max=config.model.beta_max, N=config.model.num_scales)\n",
        "  sampling_eps = 1e-3\n",
        "elif sde.lower() == 'subvpsde':\n",
        "  from configs.subvp import cifar10_ddpmpp_continuous as configs\n",
        "  ckpt_filename = \"exp/subvp/cifar10_ddpmpp_continuous/checkpoint_26\"\n",
        "  config = configs.get_config()\n",
        "  sde = subVPSDE(beta_min=config.model.beta_min, beta_max=config.model.beta_max, N=config.model.num_scales)\n",
        "  sampling_eps = 1e-3\n",
        "\n",
        "batch_size =   64#@param {\"type\":\"integer\"}\n",
        "local_batch_size = batch_size // jax.local_device_count()\n",
        "config.training.batch_size = batch_size\n",
        "config.eval.batch_size = batch_size\n",
        "\n",
        "random_seed = 0 #@param {\"type\": \"integer\"}\n",
        "rng = jax.random.PRNGKey(random_seed)\n",
        "rng, run_rng = jax.random.split(rng)\n",
        "rng, model_rng = jax.random.split(rng)\n",
        "score_model, init_model_state, initial_params = mutils.init_model(run_rng, config)\n",
        "optimizer = losses_lib.get_optimizer(config).create(initial_params)\n",
        "\n",
        "state = mutils.State(step=0, optimizer=optimizer, lr=config.optim.lr,\n",
        "                      model_state=init_model_state,\n",
        "                      ema_rate=config.model.ema_rate,\n",
        "                      params_ema=initial_params,\n",
        "                      rng=rng)  # pytype: disable=wrong-keyword-args\n",
        "sigmas = mutils.get_sigmas(config)\n",
        "scaler = datasets.get_data_scaler(config)\n",
        "inverse_scaler = datasets.get_data_inverse_scaler(config)\n",
        "state = utils.load_training_state(ckpt_filename, state)"
      ],
      "metadata": {
        "colab": {
          "base_uri": "https://localhost:8080/",
          "height": 373
        },
        "id": "sGc0kLSYiRTi",
        "outputId": "5f401a22-e468-40f2-f60e-0336be53c250"
      },
      "execution_count": 2,
      "outputs": [
        {
          "output_type": "error",
          "ename": "ModuleNotFoundError",
          "evalue": "ignored",
          "traceback": [
            "\u001b[0;31m---------------------------------------------------------------------------\u001b[0m",
            "\u001b[0;31mModuleNotFoundError\u001b[0m                       Traceback (most recent call last)",
            "\u001b[0;32m<ipython-input-2-c1dd738cbcf4>\u001b[0m in \u001b[0;36m<module>\u001b[0;34m\u001b[0m\n\u001b[1;32m      2\u001b[0m \u001b[0msde\u001b[0m \u001b[0;34m=\u001b[0m \u001b[0;34m'VESDE'\u001b[0m \u001b[0;31m#@param ['VESDE', 'VPSDE', 'subVPSDE'] {\"type\": \"string\"}\u001b[0m\u001b[0;34m\u001b[0m\u001b[0;34m\u001b[0m\u001b[0m\n\u001b[1;32m      3\u001b[0m \u001b[0;32mif\u001b[0m \u001b[0msde\u001b[0m\u001b[0;34m.\u001b[0m\u001b[0mlower\u001b[0m\u001b[0;34m(\u001b[0m\u001b[0;34m)\u001b[0m \u001b[0;34m==\u001b[0m \u001b[0;34m'vesde'\u001b[0m\u001b[0;34m:\u001b[0m\u001b[0;34m\u001b[0m\u001b[0;34m\u001b[0m\u001b[0m\n\u001b[0;32m----> 4\u001b[0;31m   \u001b[0;32mfrom\u001b[0m \u001b[0mconfigs\u001b[0m\u001b[0;34m.\u001b[0m\u001b[0mve\u001b[0m \u001b[0;32mimport\u001b[0m \u001b[0mcifar10_ncsnpp_continuous\u001b[0m \u001b[0;32mas\u001b[0m \u001b[0mconfigs\u001b[0m\u001b[0;34m\u001b[0m\u001b[0;34m\u001b[0m\u001b[0m\n\u001b[0m\u001b[1;32m      5\u001b[0m   \u001b[0mckpt_filename\u001b[0m \u001b[0;34m=\u001b[0m \u001b[0;34m\"exp/ve/cifar10_ncsnpp_continuous/checkpoint_24\"\u001b[0m\u001b[0;34m\u001b[0m\u001b[0;34m\u001b[0m\u001b[0m\n\u001b[1;32m      6\u001b[0m   \u001b[0mconfig\u001b[0m \u001b[0;34m=\u001b[0m \u001b[0mconfigs\u001b[0m\u001b[0;34m.\u001b[0m\u001b[0mget_config\u001b[0m\u001b[0;34m(\u001b[0m\u001b[0;34m)\u001b[0m\u001b[0;34m\u001b[0m\u001b[0;34m\u001b[0m\u001b[0m\n",
            "\u001b[0;31mModuleNotFoundError\u001b[0m: No module named 'configs'",
            "",
            "\u001b[0;31m---------------------------------------------------------------------------\u001b[0;32m\nNOTE: If your import is failing due to a missing package, you can\nmanually install dependencies using either !pip or !apt.\n\nTo view examples of installing some common dependencies, click the\n\"Open Examples\" button below.\n\u001b[0;31m---------------------------------------------------------------------------\u001b[0m\n"
          ],
          "errorDetails": {
            "actions": [
              {
                "action": "open_url",
                "actionText": "Open Examples",
                "url": "/notebooks/snippets/importing_libraries.ipynb"
              }
            ]
          }
        }
      ]
    },
    {
      "cell_type": "code",
      "source": [],
      "metadata": {
        "id": "Squ65TGHjBlr"
      },
      "execution_count": null,
      "outputs": []
    }
  ]
}